{
  "nbformat": 4,
  "nbformat_minor": 0,
  "metadata": {
    "colab": {
      "provenance": []
    },
    "kernelspec": {
      "name": "python3",
      "display_name": "Python 3"
    },
    "language_info": {
      "name": "python"
    },
    "gpuClass": "standard"
  },
  "cells": [
    {
      "cell_type": "markdown",
      "source": [
        "# Codigo por Christian Mateo Benietz Rojas"
      ],
      "metadata": {
        "id": "VFuTXCS14ECS"
      }
    },
    {
      "cell_type": "markdown",
      "source": [
        "Librerias"
      ],
      "metadata": {
        "id": "6ZdwREgpIluc"
      }
    },
    {
      "cell_type": "code",
      "execution_count": null,
      "metadata": {
        "id": "T9-s5l8fSY68"
      },
      "outputs": [],
      "source": [
        "# Librerias\n",
        "import pandas as pd\n",
        "import numpy as np"
      ]
    },
    {
      "cell_type": "code",
      "source": [
        "from sklearn.linear_model import LogisticRegression\n",
        "from sklearn.model_selection import train_test_split\n",
        "from sklearn.model_selection import GridSearchCV\n",
        "from sklearn.metrics import confusion_matrix, accuracy_score \n",
        "import seaborn"
      ],
      "metadata": {
        "id": "IAEph1FXIg5p"
      },
      "execution_count": null,
      "outputs": []
    },
    {
      "cell_type": "code",
      "source": [
        "import pickle\n",
        "from sklearn.preprocessing import LabelEncoder\n",
        "from sklearn.feature_extraction.text import TfidfVectorizer"
      ],
      "metadata": {
        "id": "s4UWA9cXIjxP"
      },
      "execution_count": null,
      "outputs": []
    },
    {
      "cell_type": "code",
      "source": [
        "import nltk\n",
        "from nltk.tokenize import word_tokenize, RegexpTokenizer\n",
        "from nltk.corpus import stopwords"
      ],
      "metadata": {
        "id": "uOF9DRwkH9tV"
      },
      "execution_count": null,
      "outputs": []
    },
    {
      "cell_type": "code",
      "source": [
        "nltk.download()"
      ],
      "metadata": {
        "id": "UiuzW3cyIbV-"
      },
      "execution_count": null,
      "outputs": []
    },
    {
      "cell_type": "markdown",
      "source": [
        "[Base de datos](https://www.kaggle.com/datasets/nikhileswarkomati/suicide-watch?select=Suicide_Detection.csv)"
      ],
      "metadata": {
        "id": "y_hsAi7qKVkt"
      }
    },
    {
      "cell_type": "code",
      "source": [
        "# Cargamos la base de datos desde drive.\n",
        "path = 'here your path of db'\n",
        "db = pd.read_csv(path)"
      ],
      "metadata": {
        "id": "iQ0tXKUcShTi"
      },
      "execution_count": null,
      "outputs": []
    },
    {
      "cell_type": "code",
      "source": [
        "# Eliminamos la columna Unnamed: 0\n",
        "db = db.drop(columns=['Unnamed: 0'])"
      ],
      "metadata": {
        "id": "mdT44eTPU9yy"
      },
      "execution_count": null,
      "outputs": []
    },
    {
      "cell_type": "code",
      "source": [
        "# Sample del 70% de todos los datos.\n",
        "db = db.sample(frac=.7, random_state=5)"
      ],
      "metadata": {
        "id": "GJNAi_Fs6Zw2"
      },
      "execution_count": null,
      "outputs": []
    },
    {
      "cell_type": "code",
      "source": [
        "# Preparando las caracteristicas y los labels.\n",
        "encoder = LabelEncoder()\n",
        "y = encoder.fit_transform(db['class']) # Transformación de texto a binario.\n",
        "x = db['text']"
      ],
      "metadata": {
        "id": "iYptq29PX5Nq"
      },
      "execution_count": null,
      "outputs": []
    },
    {
      "cell_type": "code",
      "source": [
        "y[:100] # Etiquetas binarias."
      ],
      "metadata": {
        "colab": {
          "base_uri": "https://localhost:8080/"
        },
        "id": "2dHGcCYuYT9c",
        "outputId": "f9979cae-8b08-4b04-f258-1d94b3842680"
      },
      "execution_count": null,
      "outputs": [
        {
          "output_type": "execute_result",
          "data": {
            "text/plain": [
              "array([0, 1, 0, 0, 1, 1, 0, 0, 0, 1, 0, 1, 0, 1, 1, 1, 1, 1, 1, 1, 1, 0,\n",
              "       0, 0, 0, 0, 1, 0, 0, 1, 1, 0, 1, 1, 1, 0, 0, 1, 0, 1, 1, 0, 1, 0,\n",
              "       1, 0, 0, 0, 0, 1, 0, 1, 0, 1, 1, 1, 1, 1, 1, 1, 1, 1, 1, 1, 0, 0,\n",
              "       0, 1, 1, 1, 0, 1, 1, 0, 0, 0, 0, 0, 1, 0, 0, 1, 1, 1, 1, 1, 1, 0,\n",
              "       0, 0, 1, 0, 1, 0, 0, 0, 1, 1, 1, 1])"
            ]
          },
          "metadata": {},
          "execution_count": 16
        }
      ]
    },
    {
      "cell_type": "code",
      "source": [
        "x[:100] # Caracteristica."
      ],
      "metadata": {
        "colab": {
          "base_uri": "https://localhost:8080/"
        },
        "id": "GXmOByCZaRWI",
        "outputId": "d92109ae-c2f1-40e2-f622-011acc535453"
      },
      "execution_count": null,
      "outputs": [
        {
          "output_type": "execute_result",
          "data": {
            "text/plain": [
              "176305    I GOT AN S/O Their name is Theo and I'm very h...\n",
              "168752    I'm going to dieSo my fear of getting skin can...\n",
              "123335    I’m supposed to drive to work but the door to ...\n",
              "105625    Missed a year of school, what now? Since septe...\n",
              "24284     I crochet a blanket for my boyfriend to say go...\n",
              "                                ...                        \n",
              "172463    the girl i like just said im not her type so i...\n",
              "211489    I'm tired of waking up. I've missed 2 days of ...\n",
              "18766     I want to dieI feel stuck and I don't want to ...\n",
              "147933    I really think i'm going to do itI have destro...\n",
              "57244     im so fucking tiredI don't want to live there ...\n",
              "Name: text, Length: 100, dtype: object"
            ]
          },
          "metadata": {},
          "execution_count": 17
        }
      ]
    },
    {
      "cell_type": "code",
      "source": [
        "print('Informacion db')\n",
        "print(f'Cantidad de muestras depresivas, suicidas: { db[db[\"class\"] == \"suicide\"].shape[0] }')\n",
        "print(f'Cantidad de muestras no depresivas, suicidas: { db[db[\"class\"] == \"non-suicide\"].shape[0] }')\n",
        "print(f'Cantidad de muestras totales: { db.shape[0] }')\n",
        "print(f'Cantidad de columnas: { db.shape[1] }')\n",
        "print('Cantidad de caracteristicas: 1')\n",
        "print(f'Cantidad de clases: { db[\"class\"].unique() }')"
      ],
      "metadata": {
        "colab": {
          "base_uri": "https://localhost:8080/"
        },
        "id": "wuSJT9TJUlWv",
        "outputId": "ae8b1307-f313-4abd-f5fa-a4470d8c6470"
      },
      "execution_count": null,
      "outputs": [
        {
          "output_type": "stream",
          "name": "stdout",
          "text": [
            "Informacion db\n",
            "Cantidad de muestras depresivas, suicidas: 81175\n",
            "Cantidad de muestras no depresivas, suicidas: 81277\n",
            "Cantidad de muestras totales: 162452\n",
            "Cantidad de columnas: 2\n",
            "Cantidad de caracteristicas: 1\n",
            "Cantidad de clases: ['non-suicide' 'suicide']\n"
          ]
        }
      ]
    },
    {
      "cell_type": "markdown",
      "source": [
        "Lenguaje natural"
      ],
      "metadata": {
        "id": "Q7lFkhqaFhyB"
      }
    },
    {
      "cell_type": "code",
      "source": [
        "# Funcion que recibe un string y les elimina caracteres innecesarios y stop words. \n",
        "def stopStopWords(text, stop_words):\n",
        "  # tokenized = word_tokenize(text)\n",
        "  tokenized = RegexpTokenizer(r'\\w+').tokenize(text)\n",
        "  #Removing stop words\n",
        "  filtered_sent=[]\n",
        "  for w in tokenized:\n",
        "    if w not in stop_words:\n",
        "      filtered_sent.append(w)\n",
        "  return ' '.join(filtered_sent)"
      ],
      "metadata": {
        "id": "li7Zim8MuAFe"
      },
      "execution_count": null,
      "outputs": []
    },
    {
      "cell_type": "code",
      "source": [
        "# Funcion que recibe una serie de pandas y limpia las stopwords.\n",
        "def cleanPandasSeries(pandasSeries, stop_words):\n",
        "  # Se limpian todas las cadenas de texto.\n",
        "  xToquenizedWords = []\n",
        "  for t in pandasSeries:\n",
        "    xToquenizedWords.append(stopStopWords(t, stop_words))\n",
        "  return pd.Series(xToquenizedWords)"
      ],
      "metadata": {
        "id": "qDYVjb6zvyTT"
      },
      "execution_count": null,
      "outputs": []
    },
    {
      "cell_type": "code",
      "source": [
        "# Stop words del idioma ingles.\n",
        "stop_words = stopwords.words(\"english\")\n",
        "# stop_words.append('I')\n",
        "\n",
        "# VA A PRODUCCION.\n",
        "# Funsion a produccion que limpia el string las stopwords y caracteres especiales.\n",
        "def cleaningStopwords(string):\n",
        "  tokenized = RegexpTokenizer(r'\\w+').tokenize(string)\n",
        "  filtered_sent=[]\n",
        "  for w in tokenized:\n",
        "    if w not in stop_words:\n",
        "      filtered_sent.append(w)\n",
        "  return pd.Series(' '.join(filtered_sent))"
      ],
      "metadata": {
        "id": "E9TPD3fKopCP"
      },
      "execution_count": null,
      "outputs": []
    },
    {
      "cell_type": "markdown",
      "source": [
        "Textos de ejemplo."
      ],
      "metadata": {
        "id": "pg9CGnQWX5cv"
      }
    },
    {
      "cell_type": "code",
      "source": [
        "def extractWord(x, y, index):\n",
        "  cc = 70\n",
        "  word, label = x.iloc[cc], y[cc]\n",
        "  cleanText = ' '.join(cleaningStopwords(word))\n",
        "  print(f'Texto sucio: {len(word)} letras.\\n{word}')\n",
        "  print(f'\\nclase: {label}')\n",
        "  print(f'\\nTexto limpio: {len(cleanText)} letras.\\n{cleanText}')"
      ],
      "metadata": {
        "id": "VVScXc51pYDw"
      },
      "execution_count": null,
      "outputs": []
    },
    {
      "cell_type": "code",
      "source": [
        "# Stop words del idioma ingles.\n",
        "stop_words = stopwords.words(\"english\")\n",
        "# Stop words adicionales.\n",
        "stop_words.append('I')\n",
        "stop_words.append('It')\n",
        "stop_words.append('The')\n",
        "stop_words.append('My')\n",
        "stop_words.append('One')"
      ],
      "metadata": {
        "id": "TEKLc_QXFnu-"
      },
      "execution_count": null,
      "outputs": []
    },
    {
      "cell_type": "code",
      "source": [
        "extractWord(x, y, 50)"
      ],
      "metadata": {
        "colab": {
          "base_uri": "https://localhost:8080/"
        },
        "id": "ecRRhCuVplzu",
        "outputId": "619044b2-f111-4d73-f435-dd417c9280c6"
      },
      "execution_count": null,
      "outputs": [
        {
          "output_type": "stream",
          "name": "stdout",
          "text": [
            "Texto sucio: 276 letras.\n",
            "Trump is not a bad guy Have you seen what he has done made peace in a tone of places and cooled down the tensions in North Korea. He has made a ton of jobs and helped the economy. But what do I know. This will probably be taken down because it is an opinion that is unpopular.\n",
            "\n",
            "clase: 0\n",
            "\n",
            "Texto limpio: 158 letras.\n",
            "Trump bad guy Have seen done made peace tone places cooled tensions North Korea He made ton jobs helped economy But know This probably taken opinion unpopular\n"
          ]
        }
      ]
    },
    {
      "cell_type": "code",
      "source": [
        "# Se reemplaza la informacion con los datos ya limpiados. \n",
        "x = cleanPandasSeries(x, stop_words)"
      ],
      "metadata": {
        "id": "koJGClLtwKIr"
      },
      "execution_count": null,
      "outputs": []
    },
    {
      "cell_type": "code",
      "source": [
        "x[:100] # Textos limpios."
      ],
      "metadata": {
        "colab": {
          "base_uri": "https://localhost:8080/"
        },
        "id": "8WgFFbmiwWKg",
        "outputId": "1ff86297-3c5a-4c67-e4aa-e44a19da29da"
      },
      "execution_count": null,
      "outputs": [
        {
          "output_type": "execute_result",
          "data": {
            "text/plain": [
              "0                      GOT AN S O Their name Theo happy\n",
              "1     going dieSo fear getting skin cancer head got ...\n",
              "2     supposed drive work door car FROZEN SHUT BRO H...\n",
              "3     Missed year school Since september till didnt ...\n",
              "4     crochet blanket boyfriend say goodbyeI plannin...\n",
              "                            ...                        \n",
              "95    girl like said im type ive known 3 years ive w...\n",
              "96    tired waking missed 2 days work past 11 years ...\n",
              "97    want dieI feel stuck want disappoint anyone an...\n",
              "98    really think going itI destroyed completely po...\n",
              "99    im fucking tiredI want live point useless stup...\n",
              "Length: 100, dtype: object"
            ]
          },
          "metadata": {},
          "execution_count": 26
        }
      ]
    },
    {
      "cell_type": "markdown",
      "source": [
        "Analizando las palabras mas comunes entre las dos clases"
      ],
      "metadata": {
        "id": "7LQLOH2iUcPm"
      }
    },
    {
      "cell_type": "code",
      "source": [
        "from nltk.probability import FreqDist\n",
        "import matplotlib.pyplot as plt"
      ],
      "metadata": {
        "id": "DxFj8rEiMjTt"
      },
      "execution_count": null,
      "outputs": []
    },
    {
      "cell_type": "code",
      "source": [
        "def mostCommonWords(pandaSeries):\n",
        "  allWordsTokenized = word_tokenize(''.join(pandaSeries))\n",
        "  plotMostCommonWords = FreqDist(allWordsTokenized)\n",
        "  return plotMostCommonWords"
      ],
      "metadata": {
        "id": "YpPUxeF8P1P4"
      },
      "execution_count": null,
      "outputs": []
    },
    {
      "cell_type": "code",
      "source": [
        "# La cantidad de palabra repetidas entre las dos clases. Suicide, non-suicide.\n",
        "most = mostCommonWords(x)"
      ],
      "metadata": {
        "id": "QdbVNlumSpRO"
      },
      "execution_count": null,
      "outputs": []
    },
    {
      "cell_type": "code",
      "source": [
        "plt.figure(figsize=(20, 5))\n",
        "most.plot(40, title='Most common words')\n",
        "plt.show()"
      ],
      "metadata": {
        "colab": {
          "base_uri": "https://localhost:8080/",
          "height": 393
        },
        "id": "d6whYEVxgh4d",
        "outputId": "4af5266a-01f5-4727-bc7a-2780649b47b4"
      },
      "execution_count": null,
      "outputs": [
        {
          "output_type": "display_data",
          "data": {
            "text/plain": [
              "<Figure size 1440x360 with 1 Axes>"
            ],
            "image/png": "[encoded data removed]"
          },
          "metadata": {
            "needs_background": "light"
          }
        }
      ]
    },
    {
      "cell_type": "code",
      "source": [
        "# Creamos una serie de pandas con las muestras de personas suicidas.\n",
        "mostSuicideDirty = db['text'][db[\"class\"] == \"suicide\"]\n",
        "mostSuicideDirty"
      ],
      "metadata": {
        "colab": {
          "base_uri": "https://localhost:8080/"
        },
        "id": "nlnc9vW0bHW6",
        "outputId": "596baa9e-6a09-444d-f5c4-4190d46076fe"
      },
      "execution_count": null,
      "outputs": [
        {
          "output_type": "execute_result",
          "data": {
            "text/plain": [
              "168752    I'm going to dieSo my fear of getting skin can...\n",
              "24284     I crochet a blanket for my boyfriend to say go...\n",
              "53267     Tired of my miserable lifeIv been suffering fr...\n",
              "82769     sometimes i wish i had the strength to just en...\n",
              "10262     Got back at cutting now even more deeplyTitle ...\n",
              "                                ...                        \n",
              "227278    why will no one talk to me.I posted something ...\n",
              "7723      I never truly thought of suicide but I don't t...\n",
              "30653     I think I've finally hit \"rock bottom\"I've bee...\n",
              "169010    Mad WorldNothing is going right. But I’m still...\n",
              "84040     I wanna hurt myself because I can't find a par...\n",
              "Name: text, Length: 81175, dtype: object"
            ]
          },
          "metadata": {},
          "execution_count": 31
        }
      ]
    },
    {
      "cell_type": "markdown",
      "source": [
        "Muestras para probar el prototipo"
      ],
      "metadata": {
        "id": "jtNsXB2M__-5"
      }
    },
    {
      "cell_type": "code",
      "source": [
        "mostSuicideDirty.iloc[658]"
      ],
      "metadata": {
        "colab": {
          "base_uri": "https://localhost:8080/",
          "height": 89
        },
        "id": "ilpe1VaBJkAW",
        "outputId": "21b70e99-8346-436f-b503-d538e21e44b6"
      },
      "execution_count": null,
      "outputs": [
        {
          "output_type": "execute_result",
          "data": {
            "text/plain": [
              "'I’m doing itThis is it. Good bye, good luck to all, if my parents dig this up I guess this is my suicide note-\\n\\nThough I never say it, I love my family more than anything. This is not your fault, I am the reason that I am the failure that I am. I am the coward who can’t face you guys and instead had to hurt you guys even more. Ily, if there’s a higher power  I’ll make sure to tell them how amazing you guys are. If not maybe in a billion years somewhere somehow there is another me who didn’t fuck up. Good bye. I’m so sorry'"
            ],
            "application/vnd.google.colaboratory.intrinsic+json": {
              "type": "string"
            }
          },
          "metadata": {},
          "execution_count": 32
        }
      ]
    },
    {
      "cell_type": "code",
      "source": [
        "mostSuicideDirty.iloc[45]"
      ],
      "metadata": {
        "colab": {
          "base_uri": "https://localhost:8080/",
          "height": 142
        },
        "id": "0V6uc6Te1Jrt",
        "outputId": "6f605311-5fba-439c-ede4-c985dfbcf0c2"
      },
      "execution_count": null,
      "outputs": [
        {
          "output_type": "execute_result",
          "data": {
            "text/plain": [
              "'Breakup leading to thoughtsI’m 25 (m) she’s 21 (f)\\n\\nWe have been together almost 2 years. \\n\\nSunday afternoon she said she needed time to think if she’s happy. She claims I have done nothing wrong. I asked when she will be back. She said she wasn’t sure if it would be a day, week or month. I asked if we were still together and we would remain loyal and no dating or anything of the sorts. She agreed. She left and I was in agony. I felt like the world was collapsing in. I got a text the next day while I was at work saying she was at the apartment. I rushed home and held her. We get to talking asking about if things have improved. She told me she went to a friends house, and then to a co workers house. (She has no close friends). She got drunk at the co workers house and slept with him. I find out and lose it. We eventually calm down and I say that I’m willing to forgive her and if she’s willing to go to couples therapy. She agreed instantly and we just held each other. \\n\\nToday as I woke up and finding some therapy locations she came out and said that she’s still not sure if she’s happy. She said we have (had) a perfect life with perfect pets, location etc. but she’s not happy where she is. I then told her what do we do? After lots of talking she is unsure if she still loves me and wants to take time to think about it. In 2 weeks she’s going to let me know if she still has feelings and if I do. \\n\\nRight now I have feelings and want to get back together. But my brain tells me that I shouldn’t do it. I’m scared alone and living with a friend at the moment. Any advice is welcome. \\n\\nI’ve never wanted to hurt myself until today and I don’t know how to process it.'"
            ],
            "application/vnd.google.colaboratory.intrinsic+json": {
              "type": "string"
            }
          },
          "metadata": {},
          "execution_count": 38
        }
      ]
    },
    {
      "cell_type": "code",
      "source": [
        "mostSuicideDirty.iloc[8899]"
      ],
      "metadata": {
        "colab": {
          "base_uri": "https://localhost:8080/",
          "height": 71
        },
        "id": "PiS5gd4j3pkO",
        "outputId": "c9217c17-12f7-4290-f45a-63a3fd03ecb3"
      },
      "execution_count": null,
      "outputs": [
        {
          "output_type": "execute_result",
          "data": {
            "text/plain": [
              "'Had a self harm relapse and if it wasn’t for my dog I would have ended it allI’m stupid, I just feel worthless and that I deserve to die. I got into a fight with my abusive ex and he told me that I’m dirt on the bottom of his shoe and he’s right. I’m literally sitting in a small puddle of my own blood with my razor blade and the only thing that stops me is my dog sitting next to me. I don’t know why I’m posting. I am tired of being sad all the time.'"
            ],
            "application/vnd.google.colaboratory.intrinsic+json": {
              "type": "string"
            }
          },
          "metadata": {},
          "execution_count": 39
        }
      ]
    },
    {
      "cell_type": "code",
      "source": [
        "''.join(db[db['class'] == 'non-suicide'].iloc[8741])"
      ],
      "metadata": {
        "colab": {
          "base_uri": "https://localhost:8080/",
          "height": 71
        },
        "id": "2CzWt8gl_b6F",
        "outputId": "d6650d92-4a59-4f4f-df19-6ba4e30f37bf"
      },
      "execution_count": null,
      "outputs": [
        {
          "output_type": "execute_result",
          "data": {
            "text/plain": [
              "\"If I start a YouTube channel, will you guys support me? Hey, so I had a YouTube channel called Silent Snyder, where I uploaded game plays. I tried to promote it here, but was brutally shut down. I'm now thinking of renaming it as UmOkay and post Text-to-speech meme videos. What do you guys think?non-suicide\""
            ],
            "application/vnd.google.colaboratory.intrinsic+json": {
              "type": "string"
            }
          },
          "metadata": {},
          "execution_count": 49
        }
      ]
    },
    {
      "cell_type": "code",
      "source": [
        "''.join(db[db['class'] == 'non-suicide'].iloc[8421])"
      ],
      "metadata": {
        "colab": {
          "base_uri": "https://localhost:8080/",
          "height": 53
        },
        "id": "RWk1hX21_9JR",
        "outputId": "643fe8c0-11a4-4ac9-9a8b-2345e65b743d"
      },
      "execution_count": null,
      "outputs": [
        {
          "output_type": "execute_result",
          "data": {
            "text/plain": [
              "'Anyone wanna cry and hug for a few hours? I have no particular reason. maybe we could eat some cookies together and maybe watch a movie or something?non-suicide'"
            ],
            "application/vnd.google.colaboratory.intrinsic+json": {
              "type": "string"
            }
          },
          "metadata": {},
          "execution_count": 51
        }
      ]
    },
    {
      "cell_type": "code",
      "source": [
        "# Limpiamos la Serie de pandas con las muestras de personas suicidas.\n",
        "mostSuicideClean = cleanPandasSeries(mostSuicideDirty, stop_words)\n",
        "mostSuicideClean"
      ],
      "metadata": {
        "colab": {
          "base_uri": "https://localhost:8080/"
        },
        "id": "WtVrxj-SUOnV",
        "outputId": "8108f21f-7d1f-4e47-f129-e615d717f5b3"
      },
      "execution_count": null,
      "outputs": [
        {
          "output_type": "execute_result",
          "data": {
            "text/plain": [
              "0        going dieSo fear getting skin cancer head got ...\n",
              "1        crochet blanket boyfriend say goodbyeI plannin...\n",
              "2        Tired miserable lifeIv suffering severe depres...\n",
              "3        sometimes wish strength end lifei keep telling...\n",
              "4        Got back cutting even deeplyTitle says think c...\n",
              "                               ...                        \n",
              "81170    one talk posted something yesterday got respon...\n",
              "81171    never truly thought suicide think alive 25 th ...\n",
              "81172    think finally hit rock bottom taking meds past...\n",
              "81173    Mad WorldNothing going right But still gonna f...\n",
              "81174    wanna hurt find partnerNo recent breakup singl...\n",
              "Length: 81175, dtype: object"
            ]
          },
          "metadata": {},
          "execution_count": 34
        }
      ]
    },
    {
      "cell_type": "code",
      "source": [
        "mostSuicidalWords = mostCommonWords(mostSuicideClean)"
      ],
      "metadata": {
        "id": "1wPG-emNfP92"
      },
      "execution_count": null,
      "outputs": []
    },
    {
      "cell_type": "code",
      "source": [
        "plt.figure(figsize=(20, 5))\n",
        "mostSuicidalWords.plot(60, title = 'Most 60 common words suidcidal post')\n",
        "plt.show()"
      ],
      "metadata": {
        "colab": {
          "base_uri": "https://localhost:8080/",
          "height": 394
        },
        "id": "PX1NjuwveZrW",
        "outputId": "4245118a-630c-4aa7-fbf5-d8575b6d7095"
      },
      "execution_count": null,
      "outputs": [
        {
          "output_type": "display_data",
          "data": {
            "text/plain": [
              "<Figure size 1440x360 with 1 Axes>"
            ],
            "image/png": "[encoded data removed]"
          },
          "metadata": {
            "needs_background": "light"
          }
        }
      ]
    },
    {
      "cell_type": "markdown",
      "source": [
        " Validacion cruzada"
      ],
      "metadata": {
        "id": "0m7vdkmGEFiJ"
      }
    },
    {
      "cell_type": "code",
      "source": [
        "# Train test split.\n",
        "xTrain, xTest, yTrain, yTest = train_test_split(x, y)\n",
        "vec = TfidfVectorizer().fit(xTrain)\n",
        "xVectorized = vec.transform(xTrain)"
      ],
      "metadata": {
        "id": "WjZEe3rXAnqS"
      },
      "execution_count": null,
      "outputs": []
    },
    {
      "cell_type": "code",
      "source": [
        "xTrain.shape, xTest.shape"
      ],
      "metadata": {
        "colab": {
          "base_uri": "https://localhost:8080/"
        },
        "id": "2jTlq2Aj_im4",
        "outputId": "01d7b377-5e8a-42fd-f30a-6bb80c52aa5f"
      },
      "execution_count": null,
      "outputs": [
        {
          "output_type": "execute_result",
          "data": {
            "text/plain": [
              "((121839,), (40613,))"
            ]
          },
          "metadata": {},
          "execution_count": 317
        }
      ]
    },
    {
      "cell_type": "markdown",
      "source": [
        "Con Logistic regresion"
      ],
      "metadata": {
        "id": "DAkAYjUvHuuy"
      }
    },
    {
      "cell_type": "code",
      "source": [
        "# Validación cruzada de logistic regresion.\n",
        "parameters = {\n",
        "    'C': [0.001, 0.10, 0.1, 10, 100],\n",
        "    'penalty': ['none', 'l2'],\n",
        "    'solver': ['newton-cg', 'lbfgs']\n",
        "}\n",
        "\n",
        "gridLogisticRegresion = GridSearchCV(LogisticRegression(), parameters, cv=5, scoring='accuracy')"
      ],
      "metadata": {
        "id": "SPeeKw3QBk0q"
      },
      "execution_count": null,
      "outputs": []
    },
    {
      "cell_type": "code",
      "source": [
        "# Validacion cruzada.\n",
        "gridSearchLogisticRegresion = gridLogisticRegresion.fit(xVectorized, yTrain)"
      ],
      "metadata": {
        "id": "V8qlNi92_6g4"
      },
      "execution_count": null,
      "outputs": []
    },
    {
      "cell_type": "code",
      "source": [
        "# Resultados en un data frame de pandas.\n",
        "#params = pd.DataFrame(gridSearchLogisticRegresion.cv_results_['params'])\n",
        "#scores = pd.DataFrame(gridSearchLogisticRegresion.cv_results_['mean_test_score'], columns=['Accuracy'])\n",
        "#results = pd.concat((params, scores), axis=1)"
      ],
      "metadata": {
        "id": "HZuE5K8qIon9"
      },
      "execution_count": null,
      "outputs": []
    },
    {
      "cell_type": "code",
      "source": [
        "# Imprimiendo el mejor resultado.\n",
        "print(f'Best params: {gridSearchLogisticRegresion.best_params_}')\n",
        "print(f'Best accuracy: {gridSearchLogisticRegresion.best_score_:.2%}')"
      ],
      "metadata": {
        "colab": {
          "base_uri": "https://localhost:8080/"
        },
        "id": "ViTZfLphGOP5",
        "outputId": "cdd06011-8142-4c0c-b456-cdfca1e9e666"
      },
      "execution_count": null,
      "outputs": [
        {
          "output_type": "stream",
          "name": "stdout",
          "text": [
            "Best params: {'C': 10, 'penalty': 'l2', 'solver': 'newton-cg'}\n",
            "Best accuracy: 92.93%\n"
          ]
        }
      ]
    },
    {
      "cell_type": "code",
      "source": [
        "from sklearn.neighbors import KNeighborsClassifier"
      ],
      "metadata": {
        "id": "Q1yR1NWLylwZ"
      },
      "execution_count": null,
      "outputs": []
    },
    {
      "cell_type": "code",
      "source": [
        "from sklearn.svm import SVC"
      ],
      "metadata": {
        "id": "kKaBGedD431i"
      },
      "execution_count": null,
      "outputs": []
    },
    {
      "cell_type": "markdown",
      "source": [
        "Metricas"
      ],
      "metadata": {
        "id": "bcnQ63E7LDVX"
      }
    },
    {
      "cell_type": "code",
      "source": [
        "# Modelo para produccion.\n",
        "bestModelTrained = LogisticRegression(C= 10, penalty= 'l2', solver= 'newton-cg').fit(xVectorized, yTrain)"
      ],
      "metadata": {
        "id": "GmApisCV_uAP"
      },
      "execution_count": null,
      "outputs": []
    },
    {
      "cell_type": "code",
      "source": [
        "# prediccion con los valores de test.\n",
        "prediction = bestModelTrained.predict(vec.transform(xTest))"
      ],
      "metadata": {
        "id": "JAmM-b4ML2Hf"
      },
      "execution_count": null,
      "outputs": []
    },
    {
      "cell_type": "code",
      "source": [
        "# Sacamos las metricas.\n",
        "accLogisticRegresion = accuracy_score(yTest, prediction)\n",
        "cmLogisticRegresion = confusion_matrix(yTest, prediction)"
      ],
      "metadata": {
        "id": "ipnyFFIYLbuc"
      },
      "execution_count": null,
      "outputs": []
    },
    {
      "cell_type": "code",
      "source": [
        "seaborn.set(rc={'figure.figsize': (10, 7)})\n",
        "seaborn.heatmap(cmLogisticRegresion, annot= True, fmt='g', cmap='copper').set(title= f'Logistic Regresion\\nAccuracy score {accLogisticRegresion:.2%}')"
      ],
      "metadata": {
        "colab": {
          "base_uri": "https://localhost:8080/",
          "height": 480
        },
        "id": "O1xEzUrCNCTU",
        "outputId": "16087241-9c26-4984-c480-1e02a7494911"
      },
      "execution_count": null,
      "outputs": [
        {
          "output_type": "execute_result",
          "data": {
            "text/plain": [
              "[Text(0.5, 1.0, 'Logistic Regresion\\nAccuracy score 93.88%')]"
            ]
          },
          "metadata": {},
          "execution_count": 315
        },
        {
          "output_type": "display_data",
          "data": {
            "text/plain": [
              "<Figure size 720x504 with 2 Axes>"
            ],
            "image/png": "[encoded data removed]"
          },
          "metadata": {}
        }
      ]
    },
    {
      "cell_type": "markdown",
      "source": [
        "Exportando modelo a produccion."
      ],
      "metadata": {
        "id": "6h0yzIrWQVdY"
      }
    },
    {
      "cell_type": "code",
      "source": [
        "# Modelo para produccion.\n",
        "bestModelTrained = LogisticRegression(C= 10, penalty= 'l2', solver= 'newton-cg').fit(vec.transform(xTrain), yTrain)"
      ],
      "metadata": {
        "id": "bdlhXQmBNQmy"
      },
      "execution_count": null,
      "outputs": []
    },
    {
      "cell_type": "code",
      "source": [
        "pickle.dump(bestModelTrained, open('nlp_model.pkl', 'wb'))\n",
        "pickle.dump(vec, open('knowledgebase_vocabulary.pkl', 'wb'))"
      ],
      "metadata": {
        "id": "v9FZEEr-houT"
      },
      "execution_count": null,
      "outputs": []
    },
    {
      "cell_type": "code",
      "source": [
        "pickle.dump(cleaningStopwords, open('cleaner_stopwords.pkl', 'wb'))"
      ],
      "metadata": {
        "id": "Nw75b72AqUN_"
      },
      "execution_count": null,
      "outputs": []
    }
  ]
}